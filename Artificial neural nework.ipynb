{
 "cells": [
  {
   "cell_type": "code",
   "execution_count": 36,
   "metadata": {
    "collapsed": false
   },
   "outputs": [],
   "source": [
    "from sklearn.linear_model import perceptron\n",
    "import matplotlib.pyplot as plt"
   ]
  },
  {
   "cell_type": "code",
   "execution_count": 37,
   "metadata": {
    "collapsed": false
   },
   "outputs": [
    {
     "name": "stdout",
     "output_type": "stream",
     "text": [
      "Requirement already satisfied: mlxtend in c:\\users\\dell\\anaconda3\\lib\\site-packages (0.12.0)\n",
      "Requirement already satisfied: scipy>=0.17 in c:\\users\\dell\\anaconda3\\lib\\site-packages (from mlxtend) (1.1.0)\n",
      "Requirement already satisfied: setuptools in c:\\users\\dell\\anaconda3\\lib\\site-packages\\setuptools-27.2.0-py3.5.egg (from mlxtend) (27.2.0)\n",
      "Requirement already satisfied: numpy>=1.10.4 in c:\\users\\dell\\anaconda3\\lib\\site-packages (from mlxtend) (1.11.3)\n",
      "Requirement already satisfied: pandas>=0.17.1 in c:\\users\\dell\\anaconda3\\lib\\site-packages (from mlxtend) (0.18.1)\n",
      "Requirement already satisfied: matplotlib>=1.5.1 in c:\\users\\dell\\anaconda3\\lib\\site-packages (from mlxtend) (1.5.3)\n",
      "Requirement already satisfied: scikit-learn>=0.18 in c:\\users\\dell\\anaconda3\\lib\\site-packages (from mlxtend) (0.19.1)\n",
      "Requirement already satisfied: python-dateutil>=2 in c:\\users\\dell\\anaconda3\\lib\\site-packages (from pandas>=0.17.1->mlxtend) (2.5.3)\n",
      "Requirement already satisfied: pytz>=2011k in c:\\users\\dell\\anaconda3\\lib\\site-packages (from pandas>=0.17.1->mlxtend) (2016.6.1)\n",
      "Requirement already satisfied: cycler in c:\\users\\dell\\anaconda3\\lib\\site-packages (from matplotlib>=1.5.1->mlxtend) (0.10.0)\n",
      "Requirement already satisfied: pyparsing!=2.0.4,!=2.1.2,>=1.5.6 in c:\\users\\dell\\anaconda3\\lib\\site-packages (from matplotlib>=1.5.1->mlxtend) (2.1.4)\n",
      "Requirement already satisfied: six>=1.5 in c:\\users\\dell\\anaconda3\\lib\\site-packages (from python-dateutil>=2->pandas>=0.17.1->mlxtend) (1.10.0)\n"
     ]
    }
   ],
   "source": [
    "!pip install mlxtend"
   ]
  },
  {
   "cell_type": "code",
   "execution_count": 38,
   "metadata": {
    "collapsed": true
   },
   "outputs": [],
   "source": [
    "from mlxtend.plotting import plot_decision_regions"
   ]
  },
  {
   "cell_type": "code",
   "execution_count": 39,
   "metadata": {
    "collapsed": true
   },
   "outputs": [],
   "source": [
    "from matplotlib.colors import ListedColormap"
   ]
  },
  {
   "cell_type": "code",
   "execution_count": 40,
   "metadata": {
    "collapsed": true
   },
   "outputs": [],
   "source": [
    "from sklearn.datasets import make_classification"
   ]
  },
  {
   "cell_type": "code",
   "execution_count": 41,
   "metadata": {
    "collapsed": true
   },
   "outputs": [],
   "source": [
    "x,y=make_classification(20,2,2,0,weights=[5,5],random_state=2017)"
   ]
  },
  {
   "cell_type": "code",
   "execution_count": 42,
   "metadata": {
    "collapsed": false
   },
   "outputs": [
    {
     "data": {
      "text/plain": [
       "array([[-1.28176513, -0.83825427],\n",
       "       [-2.72905246, -0.54987837],\n",
       "       [-3.14230426, -0.65701336],\n",
       "       [-0.32069248, -1.2580733 ],\n",
       "       [-1.52801264, -0.57608713],\n",
       "       [ 1.06000892, -1.61934426],\n",
       "       [-1.9626919 , -1.00695298],\n",
       "       [-2.99043275, -0.5714367 ],\n",
       "       [-0.50963768, -1.05999407],\n",
       "       [-1.48086256, -0.98917283],\n",
       "       [-1.34808473, -1.53609744],\n",
       "       [-0.0832181 , -0.72366104],\n",
       "       [ 0.32497083, -1.8916196 ],\n",
       "       [-1.56299127, -0.80338884],\n",
       "       [-1.1807781 , -1.00968683],\n",
       "       [-1.22619393, -0.77282757],\n",
       "       [-2.3713745 , -0.65089128],\n",
       "       [-1.79836762, -0.77748635],\n",
       "       [ 0.3662183 , -1.98221397],\n",
       "       [-1.0458835 , -1.73122556]])"
      ]
     },
     "execution_count": 42,
     "metadata": {},
     "output_type": "execute_result"
    }
   ],
   "source": [
    "x"
   ]
  },
  {
   "cell_type": "code",
   "execution_count": 43,
   "metadata": {
    "collapsed": false
   },
   "outputs": [
    {
     "data": {
      "text/plain": [
       "array([0, 0, 0, 0, 0, 0, 0, 0, 0, 0, 0, 0, 0, 0, 0, 0, 0, 0, 1, 0])"
      ]
     },
     "execution_count": 43,
     "metadata": {},
     "output_type": "execute_result"
    }
   ],
   "source": [
    "y"
   ]
  },
  {
   "cell_type": "code",
   "execution_count": 70,
   "metadata": {
    "collapsed": true
   },
   "outputs": [],
   "source": [
    "clf=perceptron.Perceptron(verbose=0,random_state=2017,\n",
    "fit_intercept=True,eta0=0.002, n_iter = 1000)"
   ]
  },
  {
   "cell_type": "code",
   "execution_count": 71,
   "metadata": {
    "collapsed": false
   },
   "outputs": [
    {
     "name": "stderr",
     "output_type": "stream",
     "text": [
      "C:\\Users\\dell\\Anaconda3\\lib\\site-packages\\sklearn\\linear_model\\stochastic_gradient.py:117: DeprecationWarning: n_iter parameter is deprecated in 0.19 and will be removed in 0.21. Use max_iter and tol instead.\n",
      "  DeprecationWarning)\n"
     ]
    },
    {
     "data": {
      "text/plain": [
       "Perceptron(alpha=0.0001, class_weight=None, eta0=0.002, fit_intercept=True,\n",
       "      max_iter=None, n_iter=1000, n_jobs=1, penalty=None,\n",
       "      random_state=2017, shuffle=True, tol=None, verbose=0,\n",
       "      warm_start=False)"
      ]
     },
     "execution_count": 71,
     "metadata": {},
     "output_type": "execute_result"
    }
   ],
   "source": [
    "clf.fit(x,y)"
   ]
  },
  {
   "cell_type": "code",
   "execution_count": 72,
   "metadata": {
    "collapsed": false
   },
   "outputs": [
    {
     "name": "stdout",
     "output_type": "stream",
     "text": [
      "predict:[0 0 0 0 0 0 0 0 0 0 0 0 0 0 0 0 0 0 1 0]\n",
      "actual:[0 0 0 0 0 0 0 0 0 0 0 0 0 0 0 0 0 0 1 0]\n",
      "accuracy:100.0%\n"
     ]
    }
   ],
   "source": [
    "print(\"predict:\"+str(clf.predict(x)))\n",
    "print(\"actual:\"+str(y))\n",
    "print(\"accuracy:\"+str(clf.score(x,y)*100)+\"%\")"
   ]
  },
  {
   "cell_type": "code",
   "execution_count": 73,
   "metadata": {
    "collapsed": false
   },
   "outputs": [
    {
     "name": "stdout",
     "output_type": "stream",
     "text": [
      "X1 Coefficient0.000294588745962\n"
     ]
    }
   ],
   "source": [
    "print(\"X1 Coefficient\" + str(clf.coef_[0,0]))"
   ]
  },
  {
   "cell_type": "code",
   "execution_count": 74,
   "metadata": {
    "collapsed": false
   },
   "outputs": [
    {
     "name": "stdout",
     "output_type": "stream",
     "text": [
      "X2 Coefficient-0.0104987344138\n"
     ]
    }
   ],
   "source": [
    "print(\"X2 Coefficient\" + str(clf.coef_[0,1]))"
   ]
  },
  {
   "cell_type": "code",
   "execution_count": 75,
   "metadata": {
    "collapsed": false
   },
   "outputs": [
    {
     "name": "stdout",
     "output_type": "stream",
     "text": [
      "intercept[-0.02]\n"
     ]
    }
   ],
   "source": [
    "print(\"intercept\" + str(clf.intercept_))"
   ]
  },
  {
   "cell_type": "code",
   "execution_count": 76,
   "metadata": {
    "collapsed": false
   },
   "outputs": [
    {
     "data": {
      "text/plain": [
       "20"
      ]
     },
     "execution_count": 76,
     "metadata": {},
     "output_type": "execute_result"
    }
   ],
   "source": [
    "len(x)"
   ]
  },
  {
   "cell_type": "code",
   "execution_count": 77,
   "metadata": {
    "collapsed": false,
    "scrolled": true
   },
   "outputs": [
    {
     "data": {
      "image/png": "[encoded data removed]",
      "text/plain": [
       "<matplotlib.figure.Figure at 0xb2d8080>"
      ]
     },
     "metadata": {},
     "output_type": "display_data"
    }
   ],
   "source": [
    "plot_decision_regions(x,y,clf)\n",
    "plt.title('perception model decision boundary')\n",
    "plt.xlabel('X1')\n",
    "plt.ylabel('Y1')\n",
    "plt.legend(loc='upper left')\n",
    "plt.show()"
   ]
  },
  {
   "cell_type": "code",
   "execution_count": 52,
   "metadata": {
    "collapsed": true
   },
   "outputs": [],
   "source": [
    "#multi layer ann"
   ]
  },
  {
   "cell_type": "code",
   "execution_count": null,
   "metadata": {
    "collapsed": true
   },
   "outputs": [],
   "source": []
  }
 ],
 "metadata": {
  "anaconda-cloud": {},
  "kernelspec": {
   "display_name": "Python [conda root]",
   "language": "python",
   "name": "conda-root-py"
  },
  "language_info": {
   "codemirror_mode": {
    "name": "ipython",
    "version": 3
   },
   "file_extension": ".py",
   "mimetype": "text/x-python",
   "name": "python",
   "nbconvert_exporter": "python",
   "pygments_lexer": "ipython3",
   "version": "3.5.2"
  }
 },
 "nbformat": 4,
 "nbformat_minor": 1
}
