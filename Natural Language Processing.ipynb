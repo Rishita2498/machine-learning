{
 "cells": [
  {
   "cell_type": "code",
   "execution_count": null,
   "metadata": {
    "collapsed": false
   },
   "outputs": [
    {
     "name": "stdout",
     "output_type": "stream",
     "text": [
      "showing info https://raw.githubusercontent.com/nltk/nltk_data/gh-pages/index.xml\n"
     ]
    },
    {
     "data": {
      "text/plain": [
       "True"
      ]
     },
     "execution_count": 6,
     "metadata": {},
     "output_type": "execute_result"
    }
   ],
   "source": [
    "import nltk\n",
    "#nltk.download()"
   ]
  },
  {
   "cell_type": "markdown",
   "metadata": {},
   "source": [
    "# natural language processing using NLTK"
   ]
  },
  {
   "cell_type": "markdown",
   "metadata": {},
   "source": [
    "\n",
    "# Tokenization"
   ]
  },
  {
   "cell_type": "code",
   "execution_count": 7,
   "metadata": {
    "collapsed": false
   },
   "outputs": [],
   "source": [
    "from nltk.tokenize import sent_tokenize, word_tokenize"
   ]
  },
  {
   "cell_type": "code",
   "execution_count": 8,
   "metadata": {
    "collapsed": false
   },
   "outputs": [
    {
     "name": "stdout",
     "output_type": "stream",
     "text": [
      "\"\"hello sir how are you??\n"
     ]
    }
   ],
   "source": [
    "Example_Text=\"\"\"\"\"hello sir how are you??\"\"\"\"\"\n",
    "print(Example_Text)"
   ]
  },
  {
   "cell_type": "code",
   "execution_count": 9,
   "metadata": {
    "collapsed": false
   },
   "outputs": [
    {
     "name": "stdout",
     "output_type": "stream",
     "text": [
      "[nltk_data] Downloading package punkt to\n",
      "[nltk_data]     C:\\Users\\dell\\AppData\\Roaming\\nltk_data...\n",
      "[nltk_data]   Package punkt is already up-to-date!\n"
     ]
    },
    {
     "data": {
      "text/plain": [
       "True"
      ]
     },
     "execution_count": 9,
     "metadata": {},
     "output_type": "execute_result"
    }
   ],
   "source": [
    "import nltk\n",
    "nltk.download('punkt')"
   ]
  },
  {
   "cell_type": "code",
   "execution_count": 10,
   "metadata": {
    "collapsed": false
   },
   "outputs": [
    {
     "name": "stdout",
     "output_type": "stream",
     "text": [
      "\"\"hello sir how are you?\n",
      "?\n"
     ]
    }
   ],
   "source": [
    "sentences=sent_tokenize(Example_Text)\n",
    "for sent in sentences:\n",
    "    print(sent)"
   ]
  },
  {
   "cell_type": "code",
   "execution_count": 11,
   "metadata": {
    "collapsed": false
   },
   "outputs": [
    {
     "name": "stdout",
     "output_type": "stream",
     "text": [
      "['``', '``', 'hello', 'sir', 'how', 'are', 'you', '?', '?']\n"
     ]
    }
   ],
   "source": [
    "print(word_tokenize(Example_Text))"
   ]
  },
  {
   "cell_type": "code",
   "execution_count": 12,
   "metadata": {
    "collapsed": false
   },
   "outputs": [
    {
     "data": {
      "text/plain": [
       "9"
      ]
     },
     "execution_count": 12,
     "metadata": {},
     "output_type": "execute_result"
    }
   ],
   "source": [
    "len(word_tokenize(Example_Text))"
   ]
  },
  {
   "cell_type": "code",
   "execution_count": 13,
   "metadata": {
    "collapsed": true
   },
   "outputs": [],
   "source": [
    "from nltk.stem import PorterStemmer,SnowballStemmer,RegexpStemmer,LancasterStemmer"
   ]
  },
  {
   "cell_type": "code",
   "execution_count": 14,
   "metadata": {
    "collapsed": true
   },
   "outputs": [],
   "source": [
    "ps=PorterStemmer()\n",
    "ss=SnowballStemmer('english')\n",
    "rs=RegexpStemmer('ing')\n",
    "ls=LancasterStemmer()"
   ]
  },
  {
   "cell_type": "code",
   "execution_count": 15,
   "metadata": {
    "collapsed": true
   },
   "outputs": [],
   "source": [
    "example_words=['python','pythoner','pythoning','pythoned','pythonly']"
   ]
  },
  {
   "cell_type": "code",
   "execution_count": 16,
   "metadata": {
    "collapsed": false
   },
   "outputs": [
    {
     "name": "stdout",
     "output_type": "stream",
     "text": [
      "python\n",
      "python\n",
      "====================\n",
      "pythoner\n",
      "python\n",
      "====================\n",
      "pythoning\n",
      "python\n",
      "====================\n",
      "pythoned\n",
      "python\n",
      "====================\n",
      "pythonly\n",
      "pythonli\n",
      "====================\n"
     ]
    }
   ],
   "source": [
    "for x in example_words:\n",
    "    print(x)\n",
    "    print(ps.stem(x))\n",
    "    print(\"==\"*10)"
   ]
  },
  {
   "cell_type": "code",
   "execution_count": 18,
   "metadata": {
    "collapsed": false
   },
   "outputs": [
    {
     "name": "stdout",
     "output_type": "stream",
     "text": [
      "Actual word: python\n",
      "python\n",
      "python\n",
      "python\n",
      "python\n",
      "====================\n",
      "Actual word: pythoner\n",
      "python\n",
      "python\n",
      "pythoner\n",
      "python\n",
      "====================\n",
      "Actual word: pythoning\n",
      "python\n",
      "python\n",
      "python\n",
      "python\n",
      "====================\n",
      "Actual word: pythoned\n",
      "python\n",
      "python\n",
      "pythoned\n",
      "python\n",
      "====================\n",
      "Actual word: pythonly\n",
      "pythonli\n",
      "python\n",
      "pythonly\n",
      "python\n",
      "====================\n"
     ]
    }
   ],
   "source": [
    "for w in example_words:\n",
    "    print('Actual word:',w)\n",
    "    print(ps.stem(w))\n",
    "    print(ss.stem(w))\n",
    "    print(rs.stem(w))\n",
    "    print(ls.stem(w))\n",
    "    print(\"==\"*10)"
   ]
  },
  {
   "cell_type": "code",
   "execution_count": 25,
   "metadata": {
    "collapsed": false
   },
   "outputs": [
    {
     "name": "stdout",
     "output_type": "stream",
     "text": [
      "It ---> it\n",
      "is ---> is\n",
      "important ---> import\n",
      "to ---> to\n",
      "by ---> by\n",
      "very ---> veri\n",
      "pythonly ---> python\n",
      "while ---> while\n",
      "you ---> you\n",
      "are ---> are\n",
      "pythoning ---> python\n",
      "with ---> with\n",
      "python ---> python\n",
      ".All ---> .all\n",
      "pythoners ---> python\n",
      "have ---> have\n",
      "pythoned ---> python\n",
      "poorly ---> poor\n",
      "at ---> at\n",
      "least ---> least\n",
      "once ---> onc\n",
      ". ---> .\n"
     ]
    }
   ],
   "source": [
    "new_text = \"\"\"It is important to by very pythonly\n",
    "              while you are pythoning with python .All pythoners\n",
    "              have pythoned poorly at least once.\"\"\"\n",
    "words=word_tokenize(new_text)\n",
    "for w in words:\n",
    "    print(w,\"--->\",ss.stem(w))"
   ]
  },
  {
   "cell_type": "code",
   "execution_count": 26,
   "metadata": {
    "collapsed": false
   },
   "outputs": [
    {
     "name": "stdout",
     "output_type": "stream",
     "text": [
      "It ---> It\n",
      "is ---> is\n",
      "important ---> important\n",
      "to ---> to\n",
      "by ---> by\n",
      "very ---> very\n",
      "pythonly ---> pythonly\n",
      "while ---> while\n",
      "you ---> you\n",
      "are ---> are\n",
      "pythoning ---> python\n",
      "with ---> with\n",
      "python ---> python\n",
      ".All ---> .All\n",
      "pythoners ---> pythoners\n",
      "have ---> have\n",
      "pythoned ---> pythoned\n",
      "poorly ---> poorly\n",
      "at ---> at\n",
      "least ---> least\n",
      "once ---> once\n",
      ". ---> .\n"
     ]
    }
   ],
   "source": [
    "new_text = \"\"\"It is important to by very pythonly\n",
    "              while you are pythoning with python .All pythoners\n",
    "              have pythoned poorly at least once.\"\"\"\n",
    "words=word_tokenize(new_text)\n",
    "for w in words:\n",
    "    print(w,\"--->\",rs.stem(w))"
   ]
  },
  {
   "cell_type": "code",
   "execution_count": 27,
   "metadata": {
    "collapsed": false
   },
   "outputs": [
    {
     "name": "stdout",
     "output_type": "stream",
     "text": [
      "It ---> It\n",
      "is ---> is\n",
      "important ---> import\n",
      "to ---> to\n",
      "by ---> by\n",
      "very ---> veri\n",
      "pythonly ---> pythonli\n",
      "while ---> while\n",
      "you ---> you\n",
      "are ---> are\n",
      "pythoning ---> python\n",
      "with ---> with\n",
      "python ---> python\n",
      ".All ---> .All\n",
      "pythoners ---> python\n",
      "have ---> have\n",
      "pythoned ---> python\n",
      "poorly ---> poorli\n",
      "at ---> at\n",
      "least ---> least\n",
      "once ---> onc\n",
      ". ---> .\n"
     ]
    }
   ],
   "source": [
    "new_text = \"\"\"It is important to by very pythonly\n",
    "              while you are pythoning with python .All pythoners\n",
    "              have pythoned poorly at least once.\"\"\"\n",
    "words=word_tokenize(new_text)\n",
    "for w in words:\n",
    "    print(w,\"--->\",ps.stem(w))"
   ]
  },
  {
   "cell_type": "code",
   "execution_count": 32,
   "metadata": {
    "collapsed": false
   },
   "outputs": [
    {
     "name": "stdout",
     "output_type": "stream",
     "text": [
      "[nltk_data] Downloading package wordnet to\n",
      "[nltk_data]     C:\\Users\\dell\\AppData\\Roaming\\nltk_data...\n",
      "[nltk_data]   Unzipping corpora\\wordnet.zip.\n"
     ]
    },
    {
     "data": {
      "text/plain": [
       "True"
      ]
     },
     "execution_count": 32,
     "metadata": {},
     "output_type": "execute_result"
    }
   ],
   "source": [
    "\n",
    "nltk.download('wordnet')"
   ]
  },
  {
   "cell_type": "code",
   "execution_count": 34,
   "metadata": {
    "collapsed": false
   },
   "outputs": [
    {
     "name": "stdout",
     "output_type": "stream",
     "text": [
      "cat\n",
      "cactus\n",
      "goose\n",
      "python\n",
      "good\n",
      "best\n",
      "run\n",
      "ran\n"
     ]
    }
   ],
   "source": [
    "from nltk.stem import WordNetLemmatizer\n",
    "lemmatizer = WordNetLemmatizer()\n",
    "print(lemmatizer.lemmatize(\"cats\"))\n",
    "print(lemmatizer.lemmatize(\"cacti\"))\n",
    "print(lemmatizer.lemmatize(\"geese\"))\n",
    "print(lemmatizer.lemmatize(\"python\"))\n",
    "print(lemmatizer.lemmatize(\"better\",pos=\"a\"))\n",
    "print(lemmatizer.lemmatize(\"best\",pos='v'))\n",
    "print(lemmatizer.lemmatize(\"run\",pos='v'))\n",
    "print(lemmatizer.lemmatize(\"ran\"))"
   ]
  },
  {
   "cell_type": "code",
   "execution_count": 36,
   "metadata": {
    "collapsed": false
   },
   "outputs": [
    {
     "name": "stdout",
     "output_type": "stream",
     "text": [
      "['This', 'sample', 'sentence', ',', 'showing', 'stop', 'words', 'filtration', '.']\n",
      "========================================================================================================\n",
      "['This', 'is', 'a', 'sample', 'sentence', ',', 'showing', 'off', 'the', 'stop', 'words', 'filtration', '.']\n",
      "========================================================================================================\n",
      "['This', 'sample', 'sentence', ',', 'showing', 'stop', 'words', 'filtration', '.']\n"
     ]
    }
   ],
   "source": [
    "from nltk.corpus import stopwords\n",
    "from nltk.tokenize import word_tokenize\n",
    "\n",
    "example_sent = \"This is a sample sentence, showing off the stop words filtration.\"\n",
    "\n",
    "stop_words = set(stopwords.words('english'))\n",
    "\n",
    "word_tokens = word_tokenize(example_sent)\n",
    "\n",
    "filtered_sentence = [w for w in word_tokens if not w in stop_words]\n",
    "\n",
    "print(filtered_sentence)\n",
    "print(\"==\" *52)\n",
    "\n",
    "filtered_sentence = []\n",
    "for w in word_tokens:\n",
    "   if w not in stop_words:\n",
    "      filtered_sentence.append(w)\n",
    "\n",
    "print(word_tokens)\n",
    "print(\"==\" *52)\n",
    "print(filtered_sentence)"
   ]
  },
  {
   "cell_type": "code",
   "execution_count": null,
   "metadata": {
    "collapsed": true
   },
   "outputs": [],
   "source": []
  }
 ],
 "metadata": {
  "anaconda-cloud": {},
  "kernelspec": {
   "display_name": "Python [conda root]",
   "language": "python",
   "name": "conda-root-py"
  },
  "language_info": {
   "codemirror_mode": {
    "name": "ipython",
    "version": 3
   },
   "file_extension": ".py",
   "mimetype": "text/x-python",
   "name": "python",
   "nbconvert_exporter": "python",
   "pygments_lexer": "ipython3",
   "version": "3.5.2"
  }
 },
 "nbformat": 4,
 "nbformat_minor": 1
}
