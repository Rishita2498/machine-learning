{
 "cells": [
  {
   "cell_type": "code",
   "execution_count": 1,
   "metadata": {
    "collapsed": false
   },
   "outputs": [],
   "source": [
    "dict1={'january':1500,'feb':1267,'march':908,'april':1100,'may':1600,'june':1990,'july':1769,'aug':1000,'sep':2000,'oct':450,\n",
    "  'nov':2490,'dec':670}"
   ]
  },
  {
   "cell_type": "code",
   "execution_count": 2,
   "metadata": {
    "collapsed": false
   },
   "outputs": [
    {
     "data": {
      "text/plain": [
       "{'april': 1100,\n",
       " 'aug': 1000,\n",
       " 'dec': 670,\n",
       " 'feb': 1267,\n",
       " 'january': 1500,\n",
       " 'july': 1769,\n",
       " 'june': 1990,\n",
       " 'march': 908,\n",
       " 'may': 1600,\n",
       " 'nov': 2490,\n",
       " 'oct': 450,\n",
       " 'sep': 2000}"
      ]
     },
     "execution_count": 2,
     "metadata": {},
     "output_type": "execute_result"
    }
   ],
   "source": [
    "dict1"
   ]
  },
  {
   "cell_type": "code",
   "execution_count": 3,
   "metadata": {
    "collapsed": false
   },
   "outputs": [
    {
     "data": {
      "text/plain": [
       "dict_keys(['nov', 'april', 'feb', 'march', 'june', 'aug', 'sep', 'oct', 'may', 'dec', 'july', 'january'])"
      ]
     },
     "execution_count": 3,
     "metadata": {},
     "output_type": "execute_result"
    }
   ],
   "source": [
    "dict1.keys()"
   ]
  },
  {
   "cell_type": "code",
   "execution_count": 6,
   "metadata": {
    "collapsed": false
   },
   "outputs": [
    {
     "data": {
      "text/plain": [
       "dict_values([2490, 1100, 1267, 908, 1990, 1000, 2000, 450, 1600, 670, 1769, 1500])"
      ]
     },
     "execution_count": 6,
     "metadata": {},
     "output_type": "execute_result"
    }
   ],
   "source": [
    "dict1.values()"
   ]
  },
  {
   "cell_type": "markdown",
   "metadata": {},
   "source": [
    "dict2={}"
   ]
  },
  {
   "cell_type": "code",
   "execution_count": 8,
   "metadata": {
    "collapsed": false
   },
   "outputs": [
    {
     "data": {
      "text/plain": [
       "dict_values(['adminstration', 'technical', 'HR', 'Transport', 'accounts'])"
      ]
     },
     "execution_count": 8,
     "metadata": {},
     "output_type": "execute_result"
    }
   ],
   "source": [
    "dict2={10:'technical',20:'HR',30:'accounts',40:'adminstration',50:'Transport'}\n",
    "dict2.values()"
   ]
  },
  {
   "cell_type": "code",
   "execution_count": 9,
   "metadata": {
    "collapsed": false
   },
   "outputs": [
    {
     "data": {
      "text/plain": [
       "dict_keys([40, 10, 20, 50, 30])"
      ]
     },
     "execution_count": 9,
     "metadata": {},
     "output_type": "execute_result"
    }
   ],
   "source": [
    "dict2.keys()"
   ]
  },
  {
   "cell_type": "code",
   "execution_count": null,
   "metadata": {
    "collapsed": true
   },
   "outputs": [],
   "source": []
  },
  {
   "cell_type": "code",
   "execution_count": 10,
   "metadata": {
    "collapsed": true
   },
   "outputs": [],
   "source": [
    "cse_set={'c programming','java','sofware engineering','database','mfcs','c++'}\n",
    "ece_set={'beee','mathematics','physics','network analysis','mechanics'}\n",
    "eee_set={'power systems','stld','logic gates','sensors'}"
   ]
  },
  {
   "cell_type": "code",
   "execution_count": 14,
   "metadata": {
    "collapsed": false
   },
   "outputs": [
    {
     "name": "stdout",
     "output_type": "stream",
     "text": [
      "  gender  age  emp_id\n",
      "0      M   12       1\n",
      "1      F   34       2\n",
      "2      M   56       3\n"
     ]
    }
   ],
   "source": [
    "import pandas as pd\n",
    "d={'gender':['M','F','M',],\"emp_id\":[1,2,3],'age':[12,34,56]}\n",
    "df=pd.DataFrame(d,columns={'emp_id','age','gender'})\n",
    "print(df)"
   ]
  },
  {
   "cell_type": "code",
   "execution_count": null,
   "metadata": {
    "collapsed": true
   },
   "outputs": [],
   "source": []
  }
 ],
 "metadata": {
  "anaconda-cloud": {},
  "kernelspec": {
   "display_name": "Python [conda root]",
   "language": "python",
   "name": "conda-root-py"
  },
  "language_info": {
   "codemirror_mode": {
    "name": "ipython",
    "version": 3
   },
   "file_extension": ".py",
   "mimetype": "text/x-python",
   "name": "python",
   "nbconvert_exporter": "python",
   "pygments_lexer": "ipython3",
   "version": "3.5.2"
  }
 },
 "nbformat": 4,
 "nbformat_minor": 1
}
